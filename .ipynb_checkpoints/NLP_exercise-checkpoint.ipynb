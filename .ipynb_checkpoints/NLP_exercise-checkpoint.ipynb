{
 "cells": [
  {
   "cell_type": "code",
   "execution_count": 1,
   "metadata": {},
   "outputs": [],
   "source": [
    "import re\n",
    "import string\n",
    "import pandas as pd\n",
    "import numpy as np\n",
    "from matplotlib import pyplot as plt\n",
    "import nltk\n",
    "from nltk.corpus import stopwords\n",
    "from nltk.util import ngrams\n",
    "from nltk import tokenize\n",
    "from nltk.probability import FreqDist \n",
    "from nltk.stem import WordNetLemmatizer\n",
    "from sklearn import svm\n",
    "from sklearn.feature_extraction.text import CountVectorizer, TfidfTransformer, TfidfVectorizer\n",
    "from sklearn.naive_bayes import MultinomialNB\n",
    "from sklearn.model_selection import train_test_split\n",
    "from sklearn.pipeline import Pipeline\n",
    "from sklearn.metrics import confusion_matrix, classification_report,accuracy_score\n",
    "from sklearn.ensemble import RandomForestClassifier, GradientBoostingClassifier\n",
    "from sklearn.linear_model import LogisticRegression"
   ]
  },
  {
   "cell_type": "code",
   "execution_count": 2,
   "metadata": {},
   "outputs": [
    {
     "data": {
      "text/html": [
       "<div>\n",
       "<style scoped>\n",
       "    .dataframe tbody tr th:only-of-type {\n",
       "        vertical-align: middle;\n",
       "    }\n",
       "\n",
       "    .dataframe tbody tr th {\n",
       "        vertical-align: top;\n",
       "    }\n",
       "\n",
       "    .dataframe thead th {\n",
       "        text-align: right;\n",
       "    }\n",
       "</style>\n",
       "<table border=\"1\" class=\"dataframe\">\n",
       "  <thead>\n",
       "    <tr style=\"text-align: right;\">\n",
       "      <th></th>\n",
       "      <th>text</th>\n",
       "      <th>label</th>\n",
       "    </tr>\n",
       "  </thead>\n",
       "  <tbody>\n",
       "    <tr>\n",
       "      <th>0</th>\n",
       "      <td>RT @USER: when you in a public place and ya si...</td>\n",
       "      <td>NG</td>\n",
       "    </tr>\n",
       "    <tr>\n",
       "      <th>1</th>\n",
       "      <td>@USER he ate my pussy i could..</td>\n",
       "      <td>NG</td>\n",
       "    </tr>\n",
       "    <tr>\n",
       "      <th>2</th>\n",
       "      <td>When you give somebody that \"bitch\" look</td>\n",
       "      <td>NG</td>\n",
       "    </tr>\n",
       "    <tr>\n",
       "      <th>3</th>\n",
       "      <td>Double Stuff Oreos mane say</td>\n",
       "      <td>OK</td>\n",
       "    </tr>\n",
       "    <tr>\n",
       "      <th>4</th>\n",
       "      <td>@USER lol la bitch happy bout Beatin our bench...</td>\n",
       "      <td>NG</td>\n",
       "    </tr>\n",
       "    <tr>\n",
       "      <th>...</th>\n",
       "      <td>...</td>\n",
       "      <td>...</td>\n",
       "    </tr>\n",
       "    <tr>\n",
       "      <th>18677</th>\n",
       "      <td>RT @USER: @USER @USER @USER @USER fuck no id b...</td>\n",
       "      <td>NG</td>\n",
       "    </tr>\n",
       "    <tr>\n",
       "      <th>18678</th>\n",
       "      <td>\"@USER: \"@USER: \"@USER: \"@USER: @USER swears I...</td>\n",
       "      <td>OK</td>\n",
       "    </tr>\n",
       "    <tr>\n",
       "      <th>18679</th>\n",
       "      <td>Its wayyyyy more going on now than 2 have u pu...</td>\n",
       "      <td>NG</td>\n",
       "    </tr>\n",
       "    <tr>\n",
       "      <th>18680</th>\n",
       "      <td>Mum agrees with me, ur being a wee moody cunt ...</td>\n",
       "      <td>NG</td>\n",
       "    </tr>\n",
       "    <tr>\n",
       "      <th>18681</th>\n",
       "      <td>Yea, Mike had a bitch-ass referee in Tokyo @USER</td>\n",
       "      <td>NG</td>\n",
       "    </tr>\n",
       "  </tbody>\n",
       "</table>\n",
       "<p>18682 rows × 2 columns</p>\n",
       "</div>"
      ],
      "text/plain": [
       "                                                    text label\n",
       "0      RT @USER: when you in a public place and ya si...    NG\n",
       "1                        @USER he ate my pussy i could..    NG\n",
       "2               When you give somebody that \"bitch\" look    NG\n",
       "3                            Double Stuff Oreos mane say    OK\n",
       "4      @USER lol la bitch happy bout Beatin our bench...    NG\n",
       "...                                                  ...   ...\n",
       "18677  RT @USER: @USER @USER @USER @USER fuck no id b...    NG\n",
       "18678  \"@USER: \"@USER: \"@USER: \"@USER: @USER swears I...    OK\n",
       "18679  Its wayyyyy more going on now than 2 have u pu...    NG\n",
       "18680  Mum agrees with me, ur being a wee moody cunt ...    NG\n",
       "18681   Yea, Mike had a bitch-ass referee in Tokyo @USER    NG\n",
       "\n",
       "[18682 rows x 2 columns]"
      ]
     },
     "execution_count": 2,
     "metadata": {},
     "output_type": "execute_result"
    }
   ],
   "source": [
    "file_tsv = 'data/train.tsv'\n",
    "data = pd.read_csv(file_tsv, sep='\\t')\n",
    "data"
   ]
  },
  {
   "cell_type": "markdown",
   "metadata": {},
   "source": [
    "# DATA EXPLORATION"
   ]
  },
  {
   "cell_type": "code",
   "execution_count": 3,
   "metadata": {},
   "outputs": [],
   "source": [
    "train_data = data.copy()"
   ]
  },
  {
   "cell_type": "code",
   "execution_count": 4,
   "metadata": {},
   "outputs": [
    {
     "data": {
      "text/html": [
       "<div>\n",
       "<style scoped>\n",
       "    .dataframe tbody tr th:only-of-type {\n",
       "        vertical-align: middle;\n",
       "    }\n",
       "\n",
       "    .dataframe tbody tr th {\n",
       "        vertical-align: top;\n",
       "    }\n",
       "\n",
       "    .dataframe thead th {\n",
       "        text-align: right;\n",
       "    }\n",
       "</style>\n",
       "<table border=\"1\" class=\"dataframe\">\n",
       "  <thead>\n",
       "    <tr style=\"text-align: right;\">\n",
       "      <th></th>\n",
       "      <th>label</th>\n",
       "    </tr>\n",
       "    <tr>\n",
       "      <th>label</th>\n",
       "      <th></th>\n",
       "    </tr>\n",
       "  </thead>\n",
       "  <tbody>\n",
       "    <tr>\n",
       "      <th>NG</th>\n",
       "      <td>15352</td>\n",
       "    </tr>\n",
       "    <tr>\n",
       "      <th>OK</th>\n",
       "      <td>3330</td>\n",
       "    </tr>\n",
       "  </tbody>\n",
       "</table>\n",
       "</div>"
      ],
      "text/plain": [
       "       label\n",
       "label       \n",
       "NG     15352\n",
       "OK      3330"
      ]
     },
     "execution_count": 4,
     "metadata": {},
     "output_type": "execute_result"
    }
   ],
   "source": [
    "train_pivot = train_data.groupby('label').agg({'label':'count'})\n",
    "train_pivot"
   ]
  },
  {
   "cell_type": "code",
   "execution_count": 5,
   "metadata": {},
   "outputs": [
    {
     "data": {
      "image/png": "[encoded data removed]",
      "text/plain": [
       "<Figure size 432x288 with 1 Axes>"
      ]
     },
     "metadata": {
      "needs_background": "light"
     },
     "output_type": "display_data"
    }
   ],
   "source": [
    "bars = plt.bar(range(2), train_pivot.label,color=['r', 'g'])\n",
    "plt.xticks([0,1])\n",
    "for bar in bars:\n",
    "    h = bar.get_height()\n",
    "    plt.text(bar.get_x()+bar.get_width() / 2, h,str(h)+' (%.2f%%)' % (h/len(train_data)*100) , ha='center', va='bottom')\n",
    "ax = plt.gca()\n",
    "ax.set_xticklabels({\"OK\", 'NG'})\n",
    "ax.spines['top'].set_visible(False)\n",
    "ax.spines['right'].set_visible(False)"
   ]
  },
  {
   "cell_type": "markdown",
   "metadata": {},
   "source": [
    "# FEATURE ENGINEERING"
   ]
  },
  {
   "cell_type": "markdown",
   "metadata": {},
   "source": [
    "Extract the most important information from the data by removing contractions, punctuation, emojis and stopwords from the post and lemmatizing the words"
   ]
  },
  {
   "cell_type": "code",
   "execution_count": 6,
   "metadata": {},
   "outputs": [
    {
     "name": "stderr",
     "output_type": "stream",
     "text": [
      "[nltk_data] Downloading package stopwords to /home/irma/nltk_data...\n",
      "[nltk_data]   Package stopwords is already up-to-date!\n",
      "[nltk_data] Downloading package wordnet to /home/irma/nltk_data...\n",
      "[nltk_data]   Package wordnet is already up-to-date!\n"
     ]
    },
    {
     "data": {
      "text/plain": [
       "True"
      ]
     },
     "execution_count": 6,
     "metadata": {},
     "output_type": "execute_result"
    }
   ],
   "source": [
    "nltk.download('stopwords')\n",
    "stop = stopwords.words('english')\n",
    "nltk.download('wordnet')"
   ]
  },
  {
   "cell_type": "code",
   "execution_count": 7,
   "metadata": {},
   "outputs": [
    {
     "data": {
      "text/plain": [
       "'!\"#$%&\\'()*+,-./:;<=>?@[\\\\]^_`{|}~—“”'"
      ]
     },
     "execution_count": 7,
     "metadata": {},
     "output_type": "execute_result"
    }
   ],
   "source": [
    "punctuation = string.punctuation\n",
    "punctuation = punctuation + '—' + '“' + '”'\n",
    "punctuation_without_exclamation = punctuation.replace('!', '')\n",
    "punctuation"
   ]
  },
  {
   "cell_type": "code",
   "execution_count": 8,
   "metadata": {},
   "outputs": [],
   "source": [
    "contractions = { \n",
    "\"ain't\": \"am not / are not / is not / has not / have not\",\n",
    "\"aren't\": \"are not / am not\",\n",
    "\"can't\": \"cannot\",\n",
    "\"can't've\": \"cannot have\",\n",
    "\"'cause\": \"because\",\n",
    "\"could've\": \"could have\",\n",
    "\"couldn't\": \"could not\",\n",
    "\"couldn't've\": \"could not have\",\n",
    "\"didn't\": \"did not\",\n",
    "\"doesn't\": \"does not\",\n",
    "\"don't\": \"do not\",\n",
    "\"hadn't\": \"had not\",\n",
    "\"hadn't've\": \"had not have\",\n",
    "\"hasn't\": \"has not\",\n",
    "\"haven't\": \"have not\",\n",
    "\"he'd\": \"he had / he would\",\n",
    "\"he'd've\": \"he would have\",\n",
    "\"he'll\": \"he shall / he will\",\n",
    "\"he'll've\": \"he shall have / he will have\",\n",
    "\"he's\": \"he has / he is\",\n",
    "\"how'd\": \"how did\",\n",
    "\"how'd'y\": \"how do you\",\n",
    "\"how'll\": \"how will\",\n",
    "\"how's\": \"how has / how is / how does\",\n",
    "\"I'd\": \"I had / I would\",\n",
    "\"I'd've\": \"I would have\",\n",
    "\"I'll\": \"I shall / I will\",\n",
    "\"I'll've\": \"I shall have / I will have\",\n",
    "\"I'm\": \"I am\",\n",
    "\"im\":\"I am\",\n",
    "\"I've\": \"I have\",\n",
    "\"isn't\": \"is not\",\n",
    "\"it'd\": \"it had / it would\",\n",
    "\"it'd've\": \"it would have\",\n",
    "\"it'll\": \"it shall / it will\",\n",
    "\"it'll've\": \"it shall have / it will have\",\n",
    "\"it's\": \"it has / it is\",\n",
    "\"let's\": \"let us\",\n",
    "\"ma'am\": \"madam\",\n",
    "\"mayn't\": \"may not\",\n",
    "\"might've\": \"might have\",\n",
    "\"mightn't\": \"might not\",\n",
    "\"mightn't've\": \"might not have\",\n",
    "\"must've\": \"must have\",\n",
    "\"mustn't\": \"must not\",\n",
    "\"mustn't've\": \"must not have\",\n",
    "\"needn't\": \"need not\",\n",
    "\"needn't've\": \"need not have\",\n",
    "\"o'clock\": \"of the clock\",\n",
    "\"oughtn't\": \"ought not\",\n",
    "\"oughtn't've\": \"ought not have\",\n",
    "\"shan't\": \"shall not\",\n",
    "\"sha'n't\": \"shall not\",\n",
    "\"shan't've\": \"shall not have\",\n",
    "\"she'd\": \"she had / she would\",\n",
    "\"she'd've\": \"she would have\",\n",
    "\"she'll\": \"she shall / she will\",\n",
    "\"she'll've\": \"she shall have / she will have\",\n",
    "\"she's\": \"she has / she is\",\n",
    "\"should've\": \"should have\",\n",
    "\"shouldn't\": \"should not\",\n",
    "\"shouldn't've\": \"should not have\",\n",
    "\"so've\": \"so have\",\n",
    "\"so's\": \"so as / so is\",\n",
    "\"that'd\": \"that would / that had\",\n",
    "\"that'd've\": \"that would have\",\n",
    "\"that's\": \"that has / that is\",\n",
    "\"there'd\": \"there had / there would\",\n",
    "\"there'd've\": \"there would have\",\n",
    "\"there's\": \"there has / there is\",\n",
    "\"they'd\": \"they had / they would\",\n",
    "\"they'd've\": \"they would have\",\n",
    "\"they'll\": \"they shall / they will\",\n",
    "\"they'll've\": \"they shall have / they will have\",\n",
    "\"they're\": \"they are\",\n",
    "\"they've\": \"they have\",\n",
    "\"to've\": \"to have\",\n",
    "\"wasn't\": \"was not\",\n",
    "\"we'd\": \"we had / we would\",\n",
    "\"we'd've\": \"we would have\",\n",
    "\"we'll\": \"we will\",\n",
    "\"we'll've\": \"we will have\",\n",
    "\"we're\": \"we are\",\n",
    "\"we've\": \"we have\",\n",
    "\"weren't\": \"were not\",\n",
    "\"what'll\": \"what shall / what will\",\n",
    "\"what'll've\": \"what shall have / what will have\",\n",
    "\"what're\": \"what are\",\n",
    "\"what's\": \"what has / what is\",\n",
    "\"what've\": \"what have\",\n",
    "\"when's\": \"when has / when is\",\n",
    "\"when've\": \"when have\",\n",
    "\"where'd\": \"where did\",\n",
    "\"where's\": \"where has / where is\",\n",
    "\"where've\": \"where have\",\n",
    "\"who'll\": \"who shall / who will\",\n",
    "\"who'll've\": \"who shall have / who will have\",\n",
    "\"who's\": \"who has / who is\",\n",
    "\"who've\": \"who have\",\n",
    "\"why's\": \"why has / why is\",\n",
    "\"why've\": \"why have\",\n",
    "\"will've\": \"will have\",\n",
    "\"won't\": \"will not\",\n",
    "\"won't've\": \"will not have\",\n",
    "\"would've\": \"would have\",\n",
    "\"wouldn't\": \"would not\",\n",
    "\"wouldn't've\": \"would not have\",\n",
    "\"y'all\": \"you all\",\n",
    "\"y'all'd\": \"you all would\",\n",
    "\"y'all'd've\": \"you all would have\",\n",
    "\"y'all're\": \"you all are\",\n",
    "\"y'all've\": \"you all have\",\n",
    "\"you'd\": \"you had / you would\",\n",
    "\"you'd've\": \"you would have\",\n",
    "\"you'll\": \"you shall / you will\",\n",
    "\"you'll've\": \"you shall have / you will have\",\n",
    "\"you're\": \"you are\",\n",
    "\"you've\": \"you have\",\n",
    "\"'s'\" : \" is\"\n",
    "}"
   ]
  },
  {
   "cell_type": "code",
   "execution_count": 9,
   "metadata": {},
   "outputs": [],
   "source": [
    "def text_processing(post):\n",
    "    \n",
    "    #Expand contractions in the post\n",
    "    contractions_re = re.compile('(%s)' % '|'.join(contractions.keys()))\n",
    "    def expand_contractions(s, contractions_dict=contractions):\n",
    "        def replace(match):\n",
    "            return contractions_dict[match.group(0)]\n",
    "        return contractions_re.sub(replace, s)\n",
    "    \n",
    "    no_contractions_post = expand_contractions(post)\n",
    "          \n",
    "    #Remove punctuation from the post\n",
    "    def remove_punctuation(post):\n",
    "        return post.translate(str.maketrans('', '', punctuation))\n",
    "        \n",
    "    no_punctuation_post = remove_punctuation(no_contractions_post)\n",
    "    \n",
    "    #Remove emojis from the post\n",
    "    def remove_emoji(post):\n",
    "        emoji_pattern = re.compile(\"[\"\n",
    "                                   u\"\\U0001F600-\\U0001F64F\"  # emoticons\n",
    "                                   u\"\\U0001F300-\\U0001F5FF\"  # symbols & pictographs\n",
    "                                   u\"\\U0001F680-\\U0001F6FF\"  # transport & map symbols\n",
    "                                   u\"\\U0001F1E0-\\U0001F1FF\"  # flags (iOS)\n",
    "                                   u\"\\U00002500-\\U00002BEF\"  # chinese char\n",
    "                                   u\"\\U00002702-\\U000027B0\"\n",
    "                                   u\"\\U00002702-\\U000027B0\"\n",
    "                                   u\"\\U000024C2-\\U0001F251\"\n",
    "                                   u\"\\U0001f926-\\U0001f937\"\n",
    "                                   u\"\\U00010000-\\U0010ffff\"\n",
    "                                   u\"\\u2640-\\u2642\"\n",
    "                                   u\"\\u2600-\\u2B55\"\n",
    "                                   u\"\\u200d\"\n",
    "                                   u\"\\u23cf\"\n",
    "                                   u\"\\u23e9\"\n",
    "                                   u\"\\u231a\"\n",
    "                                   u\"\\ufe0f\"  # dingbats\n",
    "                                   u\"\\u3030\"\n",
    "                                   \"]+\", flags=re.UNICODE)\n",
    "        return emoji_pattern.sub(r'', post)\n",
    "    \n",
    "    no_emoji_post = remove_emoji(no_punctuation_post)\n",
    "    \n",
    "\n",
    "    #Remove stopwords from the post\n",
    "    def remove_stopwords(post):\n",
    "        not_important = ['RT', 'USER', 'URL']\n",
    "        post = post.replace(\"RT\", '')\n",
    "        post_list = [word for word in post.split() if word not in not_important]\n",
    "        no_stopwords_list = [word.lower() for word in post_list if word.lower() not in stop]\n",
    "        return no_stopwords_list\n",
    "    \n",
    "    no_stopwords_post = remove_stopwords(no_emoji_post)\n",
    "    \n",
    "    #Lemmatize the words in post\n",
    "    def lemmatize_post(post):\n",
    "        lem = WordNetLemmatizer()\n",
    "        lemmatized_post = []\n",
    "        for word in post:\n",
    "            lemmatized_text = lem.lemmatize(word,'v')\n",
    "            lemmatized_post.append(lemmatized_text)\n",
    "        return lemmatized_post\n",
    "    \n",
    "    return lemmatize_post(no_stopwords_post)"
   ]
  },
  {
   "cell_type": "code",
   "execution_count": 10,
   "metadata": {},
   "outputs": [
    {
     "data": {
      "text/html": [
       "<div>\n",
       "<style scoped>\n",
       "    .dataframe tbody tr th:only-of-type {\n",
       "        vertical-align: middle;\n",
       "    }\n",
       "\n",
       "    .dataframe tbody tr th {\n",
       "        vertical-align: top;\n",
       "    }\n",
       "\n",
       "    .dataframe thead th {\n",
       "        text-align: right;\n",
       "    }\n",
       "</style>\n",
       "<table border=\"1\" class=\"dataframe\">\n",
       "  <thead>\n",
       "    <tr style=\"text-align: right;\">\n",
       "      <th></th>\n",
       "      <th>text</th>\n",
       "      <th>label</th>\n",
       "      <th>processed_text</th>\n",
       "      <th>exclamation_count</th>\n",
       "    </tr>\n",
       "  </thead>\n",
       "  <tbody>\n",
       "    <tr>\n",
       "      <th>0</th>\n",
       "      <td>RT @USER: when you in a public place and ya si...</td>\n",
       "      <td>NG</td>\n",
       "      <td>[public, place, ya, side, hoe, come, outta]</td>\n",
       "      <td>0</td>\n",
       "    </tr>\n",
       "    <tr>\n",
       "      <th>1</th>\n",
       "      <td>@USER he ate my pussy i could..</td>\n",
       "      <td>NG</td>\n",
       "      <td>[eat, pussy, could]</td>\n",
       "      <td>0</td>\n",
       "    </tr>\n",
       "    <tr>\n",
       "      <th>2</th>\n",
       "      <td>When you give somebody that \"bitch\" look</td>\n",
       "      <td>NG</td>\n",
       "      <td>[give, somebody, bitch, look]</td>\n",
       "      <td>0</td>\n",
       "    </tr>\n",
       "    <tr>\n",
       "      <th>3</th>\n",
       "      <td>Double Stuff Oreos mane say</td>\n",
       "      <td>OK</td>\n",
       "      <td>[double, stuff, oreos, mane, say]</td>\n",
       "      <td>0</td>\n",
       "    </tr>\n",
       "    <tr>\n",
       "      <th>4</th>\n",
       "      <td>@USER lol la bitch happy bout Beatin our bench...</td>\n",
       "      <td>NG</td>\n",
       "      <td>[lol, la, bitch, happy, bout, beatin, bench, p...</td>\n",
       "      <td>0</td>\n",
       "    </tr>\n",
       "    <tr>\n",
       "      <th>...</th>\n",
       "      <td>...</td>\n",
       "      <td>...</td>\n",
       "      <td>...</td>\n",
       "      <td>...</td>\n",
       "    </tr>\n",
       "    <tr>\n",
       "      <th>18677</th>\n",
       "      <td>RT @USER: @USER @USER @USER @USER fuck no id b...</td>\n",
       "      <td>NG</td>\n",
       "      <td>[fuck, id, gettin, swole, like, everyday, nigger]</td>\n",
       "      <td>0</td>\n",
       "    </tr>\n",
       "    <tr>\n",
       "      <th>18678</th>\n",
       "      <td>\"@USER: \"@USER: \"@USER: \"@USER: @USER swears I...</td>\n",
       "      <td>OK</td>\n",
       "      <td>[swear, 1, man, easily, easily, behind, austin...</td>\n",
       "      <td>0</td>\n",
       "    </tr>\n",
       "    <tr>\n",
       "      <th>18679</th>\n",
       "      <td>Its wayyyyy more going on now than 2 have u pu...</td>\n",
       "      <td>NG</td>\n",
       "      <td>[wayyyyy, go, 2, u, push, yo, trash, ass, musi...</td>\n",
       "      <td>0</td>\n",
       "    </tr>\n",
       "    <tr>\n",
       "      <th>18680</th>\n",
       "      <td>Mum agrees with me, ur being a wee moody cunt ...</td>\n",
       "      <td>NG</td>\n",
       "      <td>[mum, agree, ur, wee, moody, cunt, cani, deal,...</td>\n",
       "      <td>0</td>\n",
       "    </tr>\n",
       "    <tr>\n",
       "      <th>18681</th>\n",
       "      <td>Yea, Mike had a bitch-ass referee in Tokyo @USER</td>\n",
       "      <td>NG</td>\n",
       "      <td>[yea, mike, bitchass, referee, tokyo]</td>\n",
       "      <td>0</td>\n",
       "    </tr>\n",
       "  </tbody>\n",
       "</table>\n",
       "<p>18682 rows × 4 columns</p>\n",
       "</div>"
      ],
      "text/plain": [
       "                                                    text label  \\\n",
       "0      RT @USER: when you in a public place and ya si...    NG   \n",
       "1                        @USER he ate my pussy i could..    NG   \n",
       "2               When you give somebody that \"bitch\" look    NG   \n",
       "3                            Double Stuff Oreos mane say    OK   \n",
       "4      @USER lol la bitch happy bout Beatin our bench...    NG   \n",
       "...                                                  ...   ...   \n",
       "18677  RT @USER: @USER @USER @USER @USER fuck no id b...    NG   \n",
       "18678  \"@USER: \"@USER: \"@USER: \"@USER: @USER swears I...    OK   \n",
       "18679  Its wayyyyy more going on now than 2 have u pu...    NG   \n",
       "18680  Mum agrees with me, ur being a wee moody cunt ...    NG   \n",
       "18681   Yea, Mike had a bitch-ass referee in Tokyo @USER    NG   \n",
       "\n",
       "                                          processed_text  exclamation_count  \n",
       "0            [public, place, ya, side, hoe, come, outta]                  0  \n",
       "1                                    [eat, pussy, could]                  0  \n",
       "2                          [give, somebody, bitch, look]                  0  \n",
       "3                      [double, stuff, oreos, mane, say]                  0  \n",
       "4      [lol, la, bitch, happy, bout, beatin, bench, p...                  0  \n",
       "...                                                  ...                ...  \n",
       "18677  [fuck, id, gettin, swole, like, everyday, nigger]                  0  \n",
       "18678  [swear, 1, man, easily, easily, behind, austin...                  0  \n",
       "18679  [wayyyyy, go, 2, u, push, yo, trash, ass, musi...                  0  \n",
       "18680  [mum, agree, ur, wee, moody, cunt, cani, deal,...                  0  \n",
       "18681              [yea, mike, bitchass, referee, tokyo]                  0  \n",
       "\n",
       "[18682 rows x 4 columns]"
      ]
     },
     "execution_count": 10,
     "metadata": {},
     "output_type": "execute_result"
    }
   ],
   "source": [
    "train_data['processed_text'] = train_data['text'].apply(text_processing)\n",
    "train_data['exclamation_count'] = train_data['text'].apply(lambda x: x.count('!'))\n",
    "train_data"
   ]
  },
  {
   "cell_type": "code",
   "execution_count": 11,
   "metadata": {},
   "outputs": [],
   "source": [
    "# Print top 20 most frequent words in text\n",
    "def top_20(text):\n",
    "    freq = FreqDist()\n",
    "    for sentence in nltk.tokenize.sent_tokenize(text):\n",
    "        for word in nltk.tokenize.word_tokenize(sentence):\n",
    "            freq[word] += 1\n",
    "    most_freq = freq.most_common(20)\n",
    "    words = [w[0] for w in most_freq]\n",
    "    num = [n[1] for n in most_freq]\n",
    "    plt.barh(words,num,alpha=0.8)"
   ]
  },
  {
   "cell_type": "code",
   "execution_count": 12,
   "metadata": {},
   "outputs": [
    {
     "data": {
      "image/png": "[encoded data removed]",
      "text/plain": [
       "<Figure size 432x288 with 1 Axes>"
      ]
     },
     "metadata": {
      "needs_background": "light"
     },
     "output_type": "display_data"
    }
   ],
   "source": [
    "words = []\n",
    "for phrase in train_data[train_data['label'] == 'NG']['processed_text']:\n",
    "    for word in phrase:\n",
    "        words.append(word)\n",
    "text_ng = ' '.join(words)\n",
    "top_20(text_ng)"
   ]
  },
  {
   "cell_type": "code",
   "execution_count": 13,
   "metadata": {},
   "outputs": [
    {
     "data": {
      "image/png": "[encoded data removed]",
      "text/plain": [
       "<Figure size 432x288 with 1 Axes>"
      ]
     },
     "metadata": {
      "needs_background": "light"
     },
     "output_type": "display_data"
    }
   ],
   "source": [
    "words = []\n",
    "for phrase in train_data[train_data['label'] == 'OK']['processed_text']:\n",
    "    for word in phrase:\n",
    "        words.append(word)\n",
    "text_ok = ' '.join(words)\n",
    "top_20(text_ok)"
   ]
  },
  {
   "cell_type": "markdown",
   "metadata": {},
   "source": [
    "# DATA MODELLING"
   ]
  },
  {
   "cell_type": "markdown",
   "metadata": {},
   "source": [
    " For a text classification/sentiment analysis I am using differnt classification models: Naive Bayes, Random Forest Classifier, Support Vector Classification, \n",
    " Linear Support Vector Classifier, Gradient Boosting Classifier. The main comparison criteria are accuracy score, f1-score and training time. "
   ]
  },
  {
   "cell_type": "code",
   "execution_count": 14,
   "metadata": {},
   "outputs": [],
   "source": [
    "post_train, post_test, label_train, label_test = train_test_split(train_data['text'], train_data['label'], test_size=0.2)"
   ]
  },
  {
   "cell_type": "markdown",
   "metadata": {},
   "source": [
    "## Naive Bayes with CountVectorizer"
   ]
  },
  {
   "cell_type": "code",
   "execution_count": 15,
   "metadata": {},
   "outputs": [
    {
     "name": "stdout",
     "output_type": "stream",
     "text": [
      "1.95 s ± 0 ns per loop (mean ± std. dev. of 1 run, 1 loop each)\n",
      "1.95\n"
     ]
    }
   ],
   "source": [
    "#Machine Learning Pipeline with Naive Bayes and CountVectorizer\n",
    "pipeline_bayes_count = Pipeline([\n",
    "    ('bow',CountVectorizer(analyzer=text_processing)),  # strings to token integer counts\n",
    "    ('classifier', MultinomialNB()),  # train on TF-IDF vectors with Naive Bayes \n",
    "])\n",
    "time_bayes = %timeit -n1 -r1 -o pipeline_bayes_count.fit(post_train,label_train)\n",
    "print(\"{:.2f}\".format(time_bayes.average))"
   ]
  },
  {
   "cell_type": "code",
   "execution_count": 16,
   "metadata": {},
   "outputs": [
    {
     "name": "stdout",
     "output_type": "stream",
     "text": [
      "CPU times: user 502 ms, sys: 75 µs, total: 502 ms\n",
      "Wall time: 503 ms\n",
      "              precision    recall  f1-score   support\n",
      "\n",
      "          NG       0.99      0.92      0.95      3311\n",
      "          OK       0.59      0.93      0.72       426\n",
      "\n",
      "    accuracy                           0.92      3737\n",
      "   macro avg       0.79      0.92      0.84      3737\n",
      "weighted avg       0.94      0.92      0.93      3737\n",
      "\n",
      "\n",
      "\n",
      "[[3042  269]\n",
      " [  31  395]]\n",
      "0.9197217018999198\n"
     ]
    }
   ],
   "source": [
    "%time predictions = pipeline_bayes_count.predict(post_test)\n",
    "\n",
    "print(classification_report(predictions,label_test))\n",
    "print ('\\n')\n",
    "print(confusion_matrix(predictions,label_test))\n",
    "print(accuracy_score(predictions,label_test))"
   ]
  },
  {
   "cell_type": "markdown",
   "metadata": {},
   "source": [
    "## Naive Bayes with TfidfVectorizer"
   ]
  },
  {
   "cell_type": "code",
   "execution_count": 17,
   "metadata": {},
   "outputs": [
    {
     "name": "stdout",
     "output_type": "stream",
     "text": [
      "1.88 s ± 0 ns per loop (mean ± std. dev. of 1 run, 1 loop each)\n",
      "1.88\n"
     ]
    }
   ],
   "source": [
    "#Machine Learning Pipeline with Naive Bayes and TfidfVectorizer\n",
    "pipeline_bayes_tfidf = Pipeline([\n",
    "    ('bow',TfidfVectorizer(analyzer=text_processing)),  # strings to token integer counts\n",
    "    ('classifier', MultinomialNB()),  # train on TF-IDF vectors with Naive Bayes \n",
    "])\n",
    "time_bayes = %timeit -n1 -r1 -o pipeline_bayes_tfidf.fit(post_train,label_train)\n",
    "print(\"{:.2f}\".format(time_bayes.average))"
   ]
  },
  {
   "cell_type": "code",
   "execution_count": 18,
   "metadata": {},
   "outputs": [
    {
     "name": "stdout",
     "output_type": "stream",
     "text": [
      "CPU times: user 481 ms, sys: 4.15 ms, total: 485 ms\n",
      "Wall time: 493 ms\n",
      "              precision    recall  f1-score   support\n",
      "\n",
      "          NG       1.00      0.84      0.92      3632\n",
      "          OK       0.15      0.95      0.26       105\n",
      "\n",
      "    accuracy                           0.85      3737\n",
      "   macro avg       0.57      0.90      0.59      3737\n",
      "weighted avg       0.97      0.85      0.90      3737\n",
      "\n",
      "\n",
      "\n",
      "[[3068  564]\n",
      " [   5  100]]\n",
      "0.8477388279368477\n"
     ]
    }
   ],
   "source": [
    "%time predictions = pipeline_bayes_tfidf.predict(post_test)\n",
    "\n",
    "print(classification_report(predictions,label_test))\n",
    "print ('\\n')\n",
    "print(confusion_matrix(predictions,label_test))\n",
    "print(accuracy_score(predictions,label_test))"
   ]
  },
  {
   "cell_type": "markdown",
   "metadata": {},
   "source": [
    "## Random Forest Classifier"
   ]
  },
  {
   "cell_type": "code",
   "execution_count": 19,
   "metadata": {},
   "outputs": [
    {
     "name": "stdout",
     "output_type": "stream",
     "text": [
      "8.54 s ± 0 ns per loop (mean ± std. dev. of 1 run, 1 loop each)\n",
      "8.54\n"
     ]
    }
   ],
   "source": [
    "#Machine Learning Pipeline with Random Forest Classifier\n",
    "pipeline_forest = Pipeline([\n",
    "    ('bow',TfidfVectorizer(analyzer=text_processing)),  # strings to token integer counts\n",
    "    ('classifier', RandomForestClassifier()),  # train on TF-IDF vectors with Random Forest Classifier\n",
    "])\n",
    "time_forest = %timeit -n1 -r1 -o pipeline_forest.fit(post_train,label_train)\n",
    "print(\"{:.2f}\".format(time_forest.average))"
   ]
  },
  {
   "cell_type": "code",
   "execution_count": 20,
   "metadata": {},
   "outputs": [
    {
     "name": "stdout",
     "output_type": "stream",
     "text": [
      "CPU times: user 746 ms, sys: 3.89 ms, total: 750 ms\n",
      "Wall time: 756 ms\n",
      "              precision    recall  f1-score   support\n",
      "\n",
      "          NG       0.98      0.95      0.97      3181\n",
      "          OK       0.77      0.92      0.83       556\n",
      "\n",
      "    accuracy                           0.95      3737\n",
      "   macro avg       0.88      0.93      0.90      3737\n",
      "weighted avg       0.95      0.95      0.95      3737\n",
      "\n",
      "\n",
      "\n",
      "[[3026  155]\n",
      " [  47  509]]\n",
      "0.9459459459459459\n"
     ]
    }
   ],
   "source": [
    "%time predictions = pipeline_forest.predict(post_test)\n",
    "\n",
    "print(classification_report(predictions,label_test))\n",
    "print ('\\n')\n",
    "print(confusion_matrix(predictions,label_test))\n",
    "print(accuracy_score(predictions,label_test))"
   ]
  },
  {
   "cell_type": "markdown",
   "metadata": {},
   "source": [
    "## Support Vector Classification"
   ]
  },
  {
   "cell_type": "code",
   "execution_count": 21,
   "metadata": {},
   "outputs": [
    {
     "name": "stdout",
     "output_type": "stream",
     "text": [
      "25.2 s ± 0 ns per loop (mean ± std. dev. of 1 run, 1 loop each)\n",
      "25.21\n"
     ]
    }
   ],
   "source": [
    "#Machine Learning Pipeline with Support Vector Classification\n",
    "pipeline_svm = Pipeline([\n",
    "    ('bow',TfidfVectorizer(analyzer=text_processing)),  # strings to token integer counts\n",
    "    ('classifier', svm.SVC(random_state=42)), # train on TF-IDF vectors with Support Vector Classification\n",
    "]) \n",
    "time_svm = %timeit -n1 -r1 -o pipeline_svm.fit(post_train,label_train)\n",
    "print(\"{:.2f}\".format(time_svm.average))"
   ]
  },
  {
   "cell_type": "code",
   "execution_count": 22,
   "metadata": {},
   "outputs": [
    {
     "name": "stdout",
     "output_type": "stream",
     "text": [
      "CPU times: user 2.3 s, sys: 16.1 ms, total: 2.32 s\n",
      "Wall time: 2.33 s\n",
      "              precision    recall  f1-score   support\n",
      "\n",
      "          NG       0.98      0.97      0.97      3104\n",
      "          OK       0.84      0.89      0.87       633\n",
      "\n",
      "    accuracy                           0.95      3737\n",
      "   macro avg       0.91      0.93      0.92      3737\n",
      "weighted avg       0.95      0.95      0.95      3737\n",
      "\n",
      "\n",
      "\n",
      "[[3001  103]\n",
      " [  72  561]]\n",
      "0.9531709927749532\n"
     ]
    }
   ],
   "source": [
    "%time predictions = pipeline_svm.predict(post_test)\n",
    "\n",
    "print(classification_report(predictions,label_test))\n",
    "print ('\\n')\n",
    "print(confusion_matrix(predictions,label_test))\n",
    "print(accuracy_score(predictions,label_test))"
   ]
  },
  {
   "cell_type": "markdown",
   "metadata": {},
   "source": [
    "## Linear Support Vector Classification"
   ]
  },
  {
   "cell_type": "code",
   "execution_count": 23,
   "metadata": {},
   "outputs": [
    {
     "name": "stdout",
     "output_type": "stream",
     "text": [
      "1.93 s ± 0 ns per loop (mean ± std. dev. of 1 run, 1 loop each)\n",
      "1.93\n"
     ]
    }
   ],
   "source": [
    "#Machine Learning Pipeline with Linear Support Vector Classification\n",
    "pipeline_lin_svm = Pipeline([\n",
    "    ('bow',TfidfVectorizer(analyzer=text_processing)),  # strings to token integer counts\n",
    "    ('classifier', svm.LinearSVC(random_state=42)), # train on TF-IDF vectors with Linear Support Vector Classification\n",
    "])\n",
    "time_lin_svm = %timeit -n1 -r1 -o pipeline_lin_svm.fit(post_train,label_train)\n",
    "print(\"{:.2f}\".format(time_lin_svm.average))"
   ]
  },
  {
   "cell_type": "code",
   "execution_count": 24,
   "metadata": {},
   "outputs": [
    {
     "name": "stdout",
     "output_type": "stream",
     "text": [
      "CPU times: user 494 ms, sys: 3.97 ms, total: 498 ms\n",
      "Wall time: 498 ms\n",
      "              precision    recall  f1-score   support\n",
      "\n",
      "          NG       0.97      0.98      0.97      3068\n",
      "          OK       0.89      0.88      0.88       669\n",
      "\n",
      "    accuracy                           0.96      3737\n",
      "   macro avg       0.93      0.93      0.93      3737\n",
      "weighted avg       0.96      0.96      0.96      3737\n",
      "\n",
      "\n",
      "\n",
      "[[2992   76]\n",
      " [  81  588]]\n",
      "0.957987690660958\n"
     ]
    }
   ],
   "source": [
    "%time predictions = pipeline_lin_svm.predict(post_test)\n",
    "\n",
    "print(classification_report(predictions,label_test))\n",
    "print ('\\n')\n",
    "print(confusion_matrix(predictions,label_test))\n",
    "print(accuracy_score(predictions,label_test))"
   ]
  },
  {
   "cell_type": "markdown",
   "metadata": {},
   "source": [
    "## Gradient Boosting Classifier"
   ]
  },
  {
   "cell_type": "code",
   "execution_count": 25,
   "metadata": {},
   "outputs": [
    {
     "name": "stdout",
     "output_type": "stream",
     "text": [
      "5.78 s ± 0 ns per loop (mean ± std. dev. of 1 run, 1 loop each)\n",
      "5.78\n"
     ]
    }
   ],
   "source": [
    "#Machine Learning Pipeline with Gradient Boosting Classifier\n",
    "pipeline_gradient = Pipeline([\n",
    "    ('bow',TfidfVectorizer(analyzer=text_processing)),  # strings to token integer counts\n",
    "    ('classifier', GradientBoostingClassifier()), # train on TF-IDF vectors with Linear Support Vector Machine\n",
    "])\n",
    "time_gradient = %timeit -n1 -r1 -o pipeline_gradient.fit(post_train,label_train)\n",
    "print(\"{:.2f}\".format(time_gradient.average))"
   ]
  },
  {
   "cell_type": "code",
   "execution_count": 26,
   "metadata": {},
   "outputs": [
    {
     "name": "stdout",
     "output_type": "stream",
     "text": [
      "CPU times: user 488 ms, sys: 31.9 ms, total: 520 ms\n",
      "Wall time: 520 ms\n",
      "              precision    recall  f1-score   support\n",
      "\n",
      "          NG       0.98      0.92      0.95      3271\n",
      "          OK       0.61      0.88      0.72       466\n",
      "\n",
      "    accuracy                           0.92      3737\n",
      "   macro avg       0.80      0.90      0.84      3737\n",
      "weighted avg       0.94      0.92      0.92      3737\n",
      "\n",
      "\n",
      "\n",
      "[[3015  256]\n",
      " [  58  408]]\n",
      "0.915975381321916\n"
     ]
    }
   ],
   "source": [
    "%time predictions = pipeline_gradient.predict(post_test)\n",
    "\n",
    "print(classification_report(predictions,label_test))\n",
    "print ('\\n')\n",
    "print(confusion_matrix(predictions,label_test))\n",
    "print(accuracy_score(predictions,label_test))"
   ]
  },
  {
   "cell_type": "markdown",
   "metadata": {},
   "source": [
    "All classifiers except for Naive Bayes with TfidfVectorizer show an accuracy score of more than 91%. The highest accuracy score is around 95%.\n",
    "F1-score for both classes is almost equal for Random Forest Classifier, Support Vector Classification, Linear Support Vector Classification, Gradient Boosting Classifier. Around 95-97% for 'NG'-class and 85-87% for 'OK'-class.\n",
    "\n",
    "Best training time (2 sec) is obtained with Naive Bayes and Linear Support Vector Classification. But Naive Bayes delivers clearly worse results than the Linear Support Vector Classification.\n",
    "Worst time is more than 20 sec (with Support Vector Classification)\n",
    "\n",
    "Naive Bayes has a significant difference in result depending on Vectorizer type. TfidfVectorizer worsens the f1-score for 'OK'-class from ~74% to ~30% and accuracy score from 91.9% to 84.7% compared to CountVectorizer. It may be due to the classes imbalance. For the other classification models the Vectorizer type is irrelevant.\n",
    "\n",
    "My reccomendation is to choose the Linear Support Vector Classification as it offers the best performance - the shortest time and the highest accuracy."
   ]
  },
  {
   "cell_type": "markdown",
   "metadata": {},
   "source": [
    "# PREDICTION ON UNLABELED DATA \n",
    "# WITH LINEAR SUPPORT VECTOR CLASSIFICATION"
   ]
  },
  {
   "cell_type": "code",
   "execution_count": 27,
   "metadata": {},
   "outputs": [
    {
     "data": {
      "text/html": [
       "<div>\n",
       "<style scoped>\n",
       "    .dataframe tbody tr th:only-of-type {\n",
       "        vertical-align: middle;\n",
       "    }\n",
       "\n",
       "    .dataframe tbody tr th {\n",
       "        vertical-align: top;\n",
       "    }\n",
       "\n",
       "    .dataframe thead th {\n",
       "        text-align: right;\n",
       "    }\n",
       "</style>\n",
       "<table border=\"1\" class=\"dataframe\">\n",
       "  <thead>\n",
       "    <tr style=\"text-align: right;\">\n",
       "      <th></th>\n",
       "      <th>text</th>\n",
       "      <th>label</th>\n",
       "    </tr>\n",
       "  </thead>\n",
       "  <tbody>\n",
       "    <tr>\n",
       "      <th>0</th>\n",
       "      <td>Niggas cry when they get hit high and cry when...</td>\n",
       "      <td>?</td>\n",
       "    </tr>\n",
       "    <tr>\n",
       "      <th>1</th>\n",
       "      <td>RT @USER: Boss Niggas Fuk wit Boss bitches Vic...</td>\n",
       "      <td>?</td>\n",
       "    </tr>\n",
       "    <tr>\n",
       "      <th>2</th>\n",
       "      <td>Notice I didn't tweet \"bytches\".... Bytch is d...</td>\n",
       "      <td>?</td>\n",
       "    </tr>\n",
       "    <tr>\n",
       "      <th>3</th>\n",
       "      <td>@USER @USER fuck up pussy</td>\n",
       "      <td>?</td>\n",
       "    </tr>\n",
       "    <tr>\n",
       "      <th>4</th>\n",
       "      <td>@USER i swear u a fuck nigga u a scary little ...</td>\n",
       "      <td>?</td>\n",
       "    </tr>\n",
       "    <tr>\n",
       "      <th>...</th>\n",
       "      <td>...</td>\n",
       "      <td>...</td>\n",
       "    </tr>\n",
       "    <tr>\n",
       "      <th>4666</th>\n",
       "      <td>“@USER: Malibus on a come-up but in other news...</td>\n",
       "      <td>?</td>\n",
       "    </tr>\n",
       "    <tr>\n",
       "      <th>4667</th>\n",
       "      <td>Hate when bitches get boyfriends then forget a...</td>\n",
       "      <td>?</td>\n",
       "    </tr>\n",
       "    <tr>\n",
       "      <th>4668</th>\n",
       "      <td>#ExplainAnAnimePlotBadly Boy with a monkey tai...</td>\n",
       "      <td>?</td>\n",
       "    </tr>\n",
       "    <tr>\n",
       "      <th>4669</th>\n",
       "      <td>Crying to the G20 that some Americans don't li...</td>\n",
       "      <td>?</td>\n",
       "    </tr>\n",
       "    <tr>\n",
       "      <th>4670</th>\n",
       "      <td>RT @USER: I done had EVERYTHING you hoes ever ...</td>\n",
       "      <td>?</td>\n",
       "    </tr>\n",
       "  </tbody>\n",
       "</table>\n",
       "<p>4671 rows × 2 columns</p>\n",
       "</div>"
      ],
      "text/plain": [
       "                                                   text label\n",
       "0     Niggas cry when they get hit high and cry when...     ?\n",
       "1     RT @USER: Boss Niggas Fuk wit Boss bitches Vic...     ?\n",
       "2     Notice I didn't tweet \"bytches\".... Bytch is d...     ?\n",
       "3                             @USER @USER fuck up pussy     ?\n",
       "4     @USER i swear u a fuck nigga u a scary little ...     ?\n",
       "...                                                 ...   ...\n",
       "4666  “@USER: Malibus on a come-up but in other news...     ?\n",
       "4667  Hate when bitches get boyfriends then forget a...     ?\n",
       "4668  #ExplainAnAnimePlotBadly Boy with a monkey tai...     ?\n",
       "4669  Crying to the G20 that some Americans don't li...     ?\n",
       "4670  RT @USER: I done had EVERYTHING you hoes ever ...     ?\n",
       "\n",
       "[4671 rows x 2 columns]"
      ]
     },
     "execution_count": 27,
     "metadata": {},
     "output_type": "execute_result"
    }
   ],
   "source": [
    "file_tsv = 'data/test.tsv.dist'\n",
    "test_data= pd.read_csv(file_tsv, sep='\\t')\n",
    "test_data"
   ]
  },
  {
   "cell_type": "code",
   "execution_count": 28,
   "metadata": {},
   "outputs": [],
   "source": [
    "post_train, label_train, post_test = train_data['text'], train_data['label'], test_data['text']"
   ]
  },
  {
   "cell_type": "code",
   "execution_count": 29,
   "metadata": {},
   "outputs": [
    {
     "data": {
      "text/plain": [
       "Pipeline(steps=[('bow',\n",
       "                 TfidfVectorizer(analyzer=<function text_processing at 0x7f0681cb90d0>)),\n",
       "                ('classifier', LinearSVC(random_state=42))])"
      ]
     },
     "execution_count": 29,
     "metadata": {},
     "output_type": "execute_result"
    }
   ],
   "source": [
    "pipeline_lin_svm.fit(post_train,label_train)"
   ]
  },
  {
   "cell_type": "code",
   "execution_count": 30,
   "metadata": {},
   "outputs": [
    {
     "data": {
      "text/html": [
       "<div>\n",
       "<style scoped>\n",
       "    .dataframe tbody tr th:only-of-type {\n",
       "        vertical-align: middle;\n",
       "    }\n",
       "\n",
       "    .dataframe tbody tr th {\n",
       "        vertical-align: top;\n",
       "    }\n",
       "\n",
       "    .dataframe thead th {\n",
       "        text-align: right;\n",
       "    }\n",
       "</style>\n",
       "<table border=\"1\" class=\"dataframe\">\n",
       "  <thead>\n",
       "    <tr style=\"text-align: right;\">\n",
       "      <th></th>\n",
       "      <th>text</th>\n",
       "      <th>label_lin_svm</th>\n",
       "    </tr>\n",
       "  </thead>\n",
       "  <tbody>\n",
       "    <tr>\n",
       "      <th>0</th>\n",
       "      <td>Niggas cry when they get hit high and cry when...</td>\n",
       "      <td>NG</td>\n",
       "    </tr>\n",
       "    <tr>\n",
       "      <th>1</th>\n",
       "      <td>RT @USER: Boss Niggas Fuk wit Boss bitches Vic...</td>\n",
       "      <td>NG</td>\n",
       "    </tr>\n",
       "    <tr>\n",
       "      <th>2</th>\n",
       "      <td>Notice I didn't tweet \"bytches\".... Bytch is d...</td>\n",
       "      <td>NG</td>\n",
       "    </tr>\n",
       "    <tr>\n",
       "      <th>3</th>\n",
       "      <td>@USER @USER fuck up pussy</td>\n",
       "      <td>NG</td>\n",
       "    </tr>\n",
       "    <tr>\n",
       "      <th>4</th>\n",
       "      <td>@USER i swear u a fuck nigga u a scary little ...</td>\n",
       "      <td>NG</td>\n",
       "    </tr>\n",
       "    <tr>\n",
       "      <th>...</th>\n",
       "      <td>...</td>\n",
       "      <td>...</td>\n",
       "    </tr>\n",
       "    <tr>\n",
       "      <th>4666</th>\n",
       "      <td>“@USER: Malibus on a come-up but in other news...</td>\n",
       "      <td>NG</td>\n",
       "    </tr>\n",
       "    <tr>\n",
       "      <th>4667</th>\n",
       "      <td>Hate when bitches get boyfriends then forget a...</td>\n",
       "      <td>NG</td>\n",
       "    </tr>\n",
       "    <tr>\n",
       "      <th>4668</th>\n",
       "      <td>#ExplainAnAnimePlotBadly Boy with a monkey tai...</td>\n",
       "      <td>OK</td>\n",
       "    </tr>\n",
       "    <tr>\n",
       "      <th>4669</th>\n",
       "      <td>Crying to the G20 that some Americans don't li...</td>\n",
       "      <td>NG</td>\n",
       "    </tr>\n",
       "    <tr>\n",
       "      <th>4670</th>\n",
       "      <td>RT @USER: I done had EVERYTHING you hoes ever ...</td>\n",
       "      <td>NG</td>\n",
       "    </tr>\n",
       "  </tbody>\n",
       "</table>\n",
       "<p>4671 rows × 2 columns</p>\n",
       "</div>"
      ],
      "text/plain": [
       "                                                   text label_lin_svm\n",
       "0     Niggas cry when they get hit high and cry when...            NG\n",
       "1     RT @USER: Boss Niggas Fuk wit Boss bitches Vic...            NG\n",
       "2     Notice I didn't tweet \"bytches\".... Bytch is d...            NG\n",
       "3                             @USER @USER fuck up pussy            NG\n",
       "4     @USER i swear u a fuck nigga u a scary little ...            NG\n",
       "...                                                 ...           ...\n",
       "4666  “@USER: Malibus on a come-up but in other news...            NG\n",
       "4667  Hate when bitches get boyfriends then forget a...            NG\n",
       "4668  #ExplainAnAnimePlotBadly Boy with a monkey tai...            OK\n",
       "4669  Crying to the G20 that some Americans don't li...            NG\n",
       "4670  RT @USER: I done had EVERYTHING you hoes ever ...            NG\n",
       "\n",
       "[4671 rows x 2 columns]"
      ]
     },
     "execution_count": 30,
     "metadata": {},
     "output_type": "execute_result"
    }
   ],
   "source": [
    "test_data['label_lin_svm'] = pipeline_lin_svm.predict(post_test)\n",
    "test_data = test_data.drop('label', 1)\n",
    "test_data"
   ]
  },
  {
   "cell_type": "code",
   "execution_count": 33,
   "metadata": {},
   "outputs": [],
   "source": [
    "test_data.to_csv('data/test_labeled.tsv.dist', index=False, sep='\\t')"
   ]
  }
 ],
 "metadata": {
  "kernelspec": {
   "display_name": "Python 3",
   "language": "python",
   "name": "python3"
  },
  "language_info": {
   "codemirror_mode": {
    "name": "ipython",
    "version": 3
   },
   "file_extension": ".py",
   "mimetype": "text/x-python",
   "name": "python",
   "nbconvert_exporter": "python",
   "pygments_lexer": "ipython3",
   "version": "3.8.3"
  }
 },
 "nbformat": 4,
 "nbformat_minor": 4
}
